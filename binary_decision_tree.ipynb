{
 "cells": [
  {
   "cell_type": "markdown",
   "metadata": {},
   "source": [
    "These are the libraries that we use."
   ]
  },
  {
   "cell_type": "code",
   "execution_count": 1,
   "metadata": {
    "tags": [
     "outputPrepend"
    ]
   },
   "outputs": [
    {
     "output_type": "stream",
     "name": "stderr",
     "text": "tences to\n[nltk_data]    |     C:\\Users\\Michelangelo\\AppData\\Roaming\\nltk_data..\n[nltk_data]    |     .\n[nltk_data]    |   Package comparative_sentences is already up-to-\n[nltk_data]    |       date!\n[nltk_data]    | Downloading package comtrans to\n[nltk_data]    |     C:\\Users\\Michelangelo\\AppData\\Roaming\\nltk_data..\n[nltk_data]    |     .\n[nltk_data]    |   Package comtrans is already up-to-date!\n[nltk_data]    | Downloading package conll2000 to\n[nltk_data]    |     C:\\Users\\Michelangelo\\AppData\\Roaming\\nltk_data..\n[nltk_data]    |     .\n[nltk_data]    |   Package conll2000 is already up-to-date!\n[nltk_data]    | Downloading package conll2002 to\n[nltk_data]    |     C:\\Users\\Michelangelo\\AppData\\Roaming\\nltk_data..\n[nltk_data]    |     .\n[nltk_data]    |   Package conll2002 is already up-to-date!\n[nltk_data]    | Downloading package conll2007 to\n[nltk_data]    |     C:\\Users\\Michelangelo\\AppData\\Roaming\\nltk_data..\n[nltk_data]    |     .\n[nltk_data]    |   Package conll2007 is already up-to-date!\n[nltk_data]    | Downloading package crubadan to\n[nltk_data]    |     C:\\Users\\Michelangelo\\AppData\\Roaming\\nltk_data..\n[nltk_data]    |     .\n[nltk_data]    |   Package crubadan is already up-to-date!\n[nltk_data]    | Downloading package dependency_treebank to\n[nltk_data]    |     C:\\Users\\Michelangelo\\AppData\\Roaming\\nltk_data..\n[nltk_data]    |     .\n[nltk_data]    |   Package dependency_treebank is already up-to-date!\n[nltk_data]    | Downloading package dolch to\n[nltk_data]    |     C:\\Users\\Michelangelo\\AppData\\Roaming\\nltk_data..\n[nltk_data]    |     .\n[nltk_data]    |   Package dolch is already up-to-date!\n[nltk_data]    | Downloading package europarl_raw to\n[nltk_data]    |     C:\\Users\\Michelangelo\\AppData\\Roaming\\nltk_data..\n[nltk_data]    |     .\n[nltk_data]    |   Package europarl_raw is already up-to-date!\n[nltk_data]    | Downloading package floresta to\n[nltk_data]    |     C:\\Users\\Michelangelo\\AppData\\Roaming\\nltk_data..\n[nltk_data]    |     .\n[nltk_data]    |   Package floresta is already up-to-date!\n[nltk_data]    | Downloading package framenet_v15 to\n[nltk_data]    |     C:\\Users\\Michelangelo\\AppData\\Roaming\\nltk_data..\n[nltk_data]    |     .\n[nltk_data]    |   Package framenet_v15 is already up-to-date!\n[nltk_data]    | Downloading package framenet_v17 to\n[nltk_data]    |     C:\\Users\\Michelangelo\\AppData\\Roaming\\nltk_data..\n[nltk_data]    |     .\n[nltk_data]    |   Package framenet_v17 is already up-to-date!\n[nltk_data]    | Downloading package gazetteers to\n[nltk_data]    |     C:\\Users\\Michelangelo\\AppData\\Roaming\\nltk_data..\n[nltk_data]    |     .\n[nltk_data]    |   Package gazetteers is already up-to-date!\n[nltk_data]    | Downloading package genesis to\n[nltk_data]    |     C:\\Users\\Michelangelo\\AppData\\Roaming\\nltk_data..\n[nltk_data]    |     .\n[nltk_data]    |   Package genesis is already up-to-date!\n[nltk_data]    | Downloading package gutenberg to\n[nltk_data]    |     C:\\Users\\Michelangelo\\AppData\\Roaming\\nltk_data..\n[nltk_data]    |     .\n[nltk_data]    |   Package gutenberg is already up-to-date!\n[nltk_data]    | Downloading package ieer to\n[nltk_data]    |     C:\\Users\\Michelangelo\\AppData\\Roaming\\nltk_data..\n[nltk_data]    |     .\n[nltk_data]    |   Package ieer is already up-to-date!\n[nltk_data]    | Downloading package inaugural to\n[nltk_data]    |     C:\\Users\\Michelangelo\\AppData\\Roaming\\nltk_data..\n[nltk_data]    |     .\n[nltk_data]    |   Package inaugural is already up-to-date!\n[nltk_data]    | Downloading package indian to\n[nltk_data]    |     C:\\Users\\Michelangelo\\AppData\\Roaming\\nltk_data..\n[nltk_data]    |     .\n[nltk_data]    |   Package indian is already up-to-date!\n[nltk_data]    | Downloading package jeita to\n[nltk_data]    |     C:\\Users\\Michelangelo\\AppData\\Roaming\\nltk_data..\n[nltk_data]    |     .\n[nltk_data]    |   Package jeita is already up-to-date!\n[nltk_data]    | Downloading package kimmo to\n[nltk_data]    |     C:\\Users\\Michelangelo\\AppData\\Roaming\\nltk_data..\n[nltk_data]    |     .\n[nltk_data]    |   Package kimmo is already up-to-date!\n[nltk_data]    | Downloading package knbc to\n[nltk_data]    |     C:\\Users\\Michelangelo\\AppData\\Roaming\\nltk_data..\n[nltk_data]    |     .\n[nltk_data]    |   Package knbc is already up-to-date!\n[nltk_data]    | Downloading package lin_thesaurus to\n[nltk_data]    |     C:\\Users\\Michelangelo\\AppData\\Roaming\\nltk_data..\n[nltk_data]    |     .\n[nltk_data]    |   Package lin_thesaurus is already up-to-date!\n[nltk_data]    | Downloading package mac_morpho to\n[nltk_data]    |     C:\\Users\\Michelangelo\\AppData\\Roaming\\nltk_data..\n[nltk_data]    |     .\n[nltk_data]    |   Package mac_morpho is already up-to-date!\n[nltk_data]    | Downloading package machado to\n[nltk_data]    |     C:\\Users\\Michelangelo\\AppData\\Roaming\\nltk_data..\n[nltk_data]    |     .\n[nltk_data]    |   Package machado is already up-to-date!\n[nltk_data]    | Downloading package masc_tagged to\n[nltk_data]    |     C:\\Users\\Michelangelo\\AppData\\Roaming\\nltk_data..\n[nltk_data]    |     .\n[nltk_data]    |   Package masc_tagged is already up-to-date!\n[nltk_data]    | Downloading package moses_sample to\n[nltk_data]    |     C:\\Users\\Michelangelo\\AppData\\Roaming\\nltk_data..\n[nltk_data]    |     .\n[nltk_data]    |   Package moses_sample is already up-to-date!\n[nltk_data]    | Downloading package movie_reviews to\n[nltk_data]    |     C:\\Users\\Michelangelo\\AppData\\Roaming\\nltk_data..\n[nltk_data]    |     .\n[nltk_data]    |   Package movie_reviews is already up-to-date!\n[nltk_data]    | Downloading package names to\n[nltk_data]    |     C:\\Users\\Michelangelo\\AppData\\Roaming\\nltk_data..\n[nltk_data]    |     .\n[nltk_data]    |   Package names is already up-to-date!\n[nltk_data]    | Downloading package nombank.1.0 to\n[nltk_data]    |     C:\\Users\\Michelangelo\\AppData\\Roaming\\nltk_data..\n[nltk_data]    |     .\n[nltk_data]    |   Package nombank.1.0 is already up-to-date!\n[nltk_data]    | Downloading package nps_chat to\n[nltk_data]    |     C:\\Users\\Michelangelo\\AppData\\Roaming\\nltk_data..\n[nltk_data]    |     .\n[nltk_data]    |   Package nps_chat is already up-to-date!\n[nltk_data]    | Downloading package omw to\n[nltk_data]    |     C:\\Users\\Michelangelo\\AppData\\Roaming\\nltk_data..\n[nltk_data]    |     .\n[nltk_data]    |   Package omw is already up-to-date!\n[nltk_data]    | Downloading package opinion_lexicon to\n[nltk_data]    |     C:\\Users\\Michelangelo\\AppData\\Roaming\\nltk_data..\n[nltk_data]    |     .\n[nltk_data]    |   Package opinion_lexicon is already up-to-date!\n[nltk_data]    | Downloading package paradigms to\n[nltk_data]    |     C:\\Users\\Michelangelo\\AppData\\Roaming\\nltk_data..\n[nltk_data]    |     .\n[nltk_data]    |   Package paradigms is already up-to-date!\n[nltk_data]    | Downloading package pil to\n[nltk_data]    |     C:\\Users\\Michelangelo\\AppData\\Roaming\\nltk_data..\n[nltk_data]    |     .\n[nltk_data]    |   Package pil is already up-to-date!\n[nltk_data]    | Downloading package pl196x to\n[nltk_data]    |     C:\\Users\\Michelangelo\\AppData\\Roaming\\nltk_data..\n[nltk_data]    |     .\n[nltk_data]    |   Package pl196x is already up-to-date!\n[nltk_data]    | Downloading package ppattach to\n[nltk_data]    |     C:\\Users\\Michelangelo\\AppData\\Roaming\\nltk_data..\n[nltk_data]    |     .\n[nltk_data]    |   Package ppattach is already up-to-date!\n[nltk_data]    | Downloading package problem_reports to\n[nltk_data]    |     C:\\Users\\Michelangelo\\AppData\\Roaming\\nltk_data..\n[nltk_data]    |     .\n[nltk_data]    |   Package problem_reports is already up-to-date!\n[nltk_data]    | Downloading package propbank to\n[nltk_data]    |     C:\\Users\\Michelangelo\\AppData\\Roaming\\nltk_data..\n[nltk_data]    |     .\n[nltk_data]    |   Package propbank is already up-to-date!\n[nltk_data]    | Downloading package ptb to\n[nltk_data]    |     C:\\Users\\Michelangelo\\AppData\\Roaming\\nltk_data..\n[nltk_data]    |     .\n[nltk_data]    |   Package ptb is already up-to-date!\n[nltk_data]    | Downloading package product_reviews_1 to\n[nltk_data]    |     C:\\Users\\Michelangelo\\AppData\\Roaming\\nltk_data..\n[nltk_data]    |     .\n[nltk_data]    |   Package product_reviews_1 is already up-to-date!\n[nltk_data]    | Downloading package product_reviews_2 to\n[nltk_data]    |     C:\\Users\\Michelangelo\\AppData\\Roaming\\nltk_data..\n[nltk_data]    |     .\n[nltk_data]    |   Package product_reviews_2 is already up-to-date!\n[nltk_data]    | Downloading package pros_cons to\n[nltk_data]    |     C:\\Users\\Michelangelo\\AppData\\Roaming\\nltk_data..\n[nltk_data]    |     .\n[nltk_data]    |   Package pros_cons is already up-to-date!\n[nltk_data]    | Downloading package qc to\n[nltk_data]    |     C:\\Users\\Michelangelo\\AppData\\Roaming\\nltk_data..\n[nltk_data]    |     .\n[nltk_data]    |   Package qc is already up-to-date!\n[nltk_data]    | Downloading package reuters to\n[nltk_data]    |     C:\\Users\\Michelangelo\\AppData\\Roaming\\nltk_data..\n[nltk_data]    |     .\n[nltk_data]    |   Package reuters is already up-to-date!\n[nltk_data]    | Downloading package rte to\n[nltk_data]    |     C:\\Users\\Michelangelo\\AppData\\Roaming\\nltk_data..\n[nltk_data]    |     .\n[nltk_data]    |   Package rte is already up-to-date!\n[nltk_data]    | Downloading package semcor to\n[nltk_data]    |     C:\\Users\\Michelangelo\\AppData\\Roaming\\nltk_data..\n[nltk_data]    |     .\n[nltk_data]    |   Package semcor is already up-to-date!\n[nltk_data]    | Downloading package senseval to\n[nltk_data]    |     C:\\Users\\Michelangelo\\AppData\\Roaming\\nltk_data..\n[nltk_data]    |     .\n[nltk_data]    |   Package senseval is already up-to-date!\n[nltk_data]    | Downloading package sentiwordnet to\n[nltk_data]    |     C:\\Users\\Michelangelo\\AppData\\Roaming\\nltk_data..\n[nltk_data]    |     .\n[nltk_data]    |   Package sentiwordnet is already up-to-date!\n[nltk_data]    | Downloading package sentence_polarity to\n[nltk_data]    |     C:\\Users\\Michelangelo\\AppData\\Roaming\\nltk_data..\n[nltk_data]    |     .\n[nltk_data]    |   Package sentence_polarity is already up-to-date!\n[nltk_data]    | Downloading package shakespeare to\n[nltk_data]    |     C:\\Users\\Michelangelo\\AppData\\Roaming\\nltk_data..\n[nltk_data]    |     .\n[nltk_data]    |   Package shakespeare is already up-to-date!\n[nltk_data]    | Downloading package sinica_treebank to\n[nltk_data]    |     C:\\Users\\Michelangelo\\AppData\\Roaming\\nltk_data..\n[nltk_data]    |     .\n[nltk_data]    |   Package sinica_treebank is already up-to-date!\n[nltk_data]    | Downloading package smultron to\n[nltk_data]    |     C:\\Users\\Michelangelo\\AppData\\Roaming\\nltk_data..\n[nltk_data]    |     .\n[nltk_data]    |   Package smultron is already up-to-date!\n[nltk_data]    | Downloading package state_union to\n[nltk_data]    |     C:\\Users\\Michelangelo\\AppData\\Roaming\\nltk_data..\n[nltk_data]    |     .\n[nltk_data]    |   Package state_union is already up-to-date!\n[nltk_data]    | Downloading package stopwords to\n[nltk_data]    |     C:\\Users\\Michelangelo\\AppData\\Roaming\\nltk_data..\n[nltk_data]    |     .\n[nltk_data]    |   Package stopwords is already up-to-date!\n[nltk_data]    | Downloading package subjectivity to\n[nltk_data]    |     C:\\Users\\Michelangelo\\AppData\\Roaming\\nltk_data..\n[nltk_data]    |     .\n[nltk_data]    |   Package subjectivity is already up-to-date!\n[nltk_data]    | Downloading package swadesh to\n[nltk_data]    |     C:\\Users\\Michelangelo\\AppData\\Roaming\\nltk_data..\n[nltk_data]    |     .\n[nltk_data]    |   Package swadesh is already up-to-date!\n[nltk_data]    | Downloading package switchboard to\n[nltk_data]    |     C:\\Users\\Michelangelo\\AppData\\Roaming\\nltk_data..\n[nltk_data]    |     .\n[nltk_data]    |   Package switchboard is already up-to-date!\n[nltk_data]    | Downloading package timit to\n[nltk_data]    |     C:\\Users\\Michelangelo\\AppData\\Roaming\\nltk_data..\n[nltk_data]    |     .\n[nltk_data]    |   Package timit is already up-to-date!\n[nltk_data]    | Downloading package toolbox to\n[nltk_data]    |     C:\\Users\\Michelangelo\\AppData\\Roaming\\nltk_data..\n[nltk_data]    |     .\n[nltk_data]    |   Package toolbox is already up-to-date!\n[nltk_data]    | Downloading package treebank to\n[nltk_data]    |     C:\\Users\\Michelangelo\\AppData\\Roaming\\nltk_data..\n[nltk_data]    |     .\n[nltk_data]    |   Package treebank is already up-to-date!\n[nltk_data]    | Downloading package twitter_samples to\n[nltk_data]    |     C:\\Users\\Michelangelo\\AppData\\Roaming\\nltk_data..\n[nltk_data]    |     .\n[nltk_data]    |   Package twitter_samples is already up-to-date!\n[nltk_data]    | Downloading package udhr to\n[nltk_data]    |     C:\\Users\\Michelangelo\\AppData\\Roaming\\nltk_data..\n[nltk_data]    |     .\n[nltk_data]    |   Package udhr is already up-to-date!\n[nltk_data]    | Downloading package udhr2 to\n[nltk_data]    |     C:\\Users\\Michelangelo\\AppData\\Roaming\\nltk_data..\n[nltk_data]    |     .\n[nltk_data]    |   Package udhr2 is already up-to-date!\n[nltk_data]    | Downloading package unicode_samples to\n[nltk_data]    |     C:\\Users\\Michelangelo\\AppData\\Roaming\\nltk_data..\n[nltk_data]    |     .\n[nltk_data]    |   Package unicode_samples is already up-to-date!\n[nltk_data]    | Downloading package universal_treebanks_v20 to\n[nltk_data]    |     C:\\Users\\Michelangelo\\AppData\\Roaming\\nltk_data..\n[nltk_data]    |     .\n[nltk_data]    |   Package universal_treebanks_v20 is already up-to-\n[nltk_data]    |       date!\n[nltk_data]    | Downloading package verbnet to\n[nltk_data]    |     C:\\Users\\Michelangelo\\AppData\\Roaming\\nltk_data..\n[nltk_data]    |     .\n[nltk_data]    |   Package verbnet is already up-to-date!\n[nltk_data]    | Downloading package verbnet3 to\n[nltk_data]    |     C:\\Users\\Michelangelo\\AppData\\Roaming\\nltk_data..\n[nltk_data]    |     .\n[nltk_data]    |   Package verbnet3 is already up-to-date!\n[nltk_data]    | Downloading package webtext to\n[nltk_data]    |     C:\\Users\\Michelangelo\\AppData\\Roaming\\nltk_data..\n[nltk_data]    |     .\n[nltk_data]    |   Package webtext is already up-to-date!\n[nltk_data]    | Downloading package wordnet to\n[nltk_data]    |     C:\\Users\\Michelangelo\\AppData\\Roaming\\nltk_data..\n[nltk_data]    |     .\n[nltk_data]    |   Package wordnet is already up-to-date!\n[nltk_data]    | Downloading package wordnet_ic to\n[nltk_data]    |     C:\\Users\\Michelangelo\\AppData\\Roaming\\nltk_data..\n[nltk_data]    |     .\n[nltk_data]    |   Package wordnet_ic is already up-to-date!\n[nltk_data]    | Downloading package words to\n[nltk_data]    |     C:\\Users\\Michelangelo\\AppData\\Roaming\\nltk_data..\n[nltk_data]    |     .\n[nltk_data]    |   Package words is already up-to-date!\n[nltk_data]    | Downloading package ycoe to\n[nltk_data]    |     C:\\Users\\Michelangelo\\AppData\\Roaming\\nltk_data..\n[nltk_data]    |     .\n[nltk_data]    |   Package ycoe is already up-to-date!\n[nltk_data]    | Downloading package rslp to\n[nltk_data]    |     C:\\Users\\Michelangelo\\AppData\\Roaming\\nltk_data..\n[nltk_data]    |     .\n[nltk_data]    |   Package rslp is already up-to-date!\n[nltk_data]    | Downloading package maxent_treebank_pos_tagger to\n[nltk_data]    |     C:\\Users\\Michelangelo\\AppData\\Roaming\\nltk_data..\n[nltk_data]    |     .\n[nltk_data]    |   Package maxent_treebank_pos_tagger is already up-\n[nltk_data]    |       to-date!\n[nltk_data]    | Downloading package universal_tagset to\n[nltk_data]    |     C:\\Users\\Michelangelo\\AppData\\Roaming\\nltk_data..\n[nltk_data]    |     .\n[nltk_data]    |   Package universal_tagset is already up-to-date!\n[nltk_data]    | Downloading package maxent_ne_chunker to\n[nltk_data]    |     C:\\Users\\Michelangelo\\AppData\\Roaming\\nltk_data..\n[nltk_data]    |     .\n[nltk_data]    |   Package maxent_ne_chunker is already up-to-date!\n[nltk_data]    | Downloading package punkt to\n[nltk_data]    |     C:\\Users\\Michelangelo\\AppData\\Roaming\\nltk_data..\n[nltk_data]    |     .\n[nltk_data]    |   Package punkt is already up-to-date!\n[nltk_data]    | Downloading package book_grammars to\n[nltk_data]    |     C:\\Users\\Michelangelo\\AppData\\Roaming\\nltk_data..\n[nltk_data]    |     .\n[nltk_data]    |   Package book_grammars is already up-to-date!\n[nltk_data]    | Downloading package sample_grammars to\n[nltk_data]    |     C:\\Users\\Michelangelo\\AppData\\Roaming\\nltk_data..\n[nltk_data]    |     .\n[nltk_data]    |   Package sample_grammars is already up-to-date!\n[nltk_data]    | Downloading package spanish_grammars to\n[nltk_data]    |     C:\\Users\\Michelangelo\\AppData\\Roaming\\nltk_data..\n[nltk_data]    |     .\n[nltk_data]    |   Package spanish_grammars is already up-to-date!\n[nltk_data]    | Downloading package basque_grammars to\n[nltk_data]    |     C:\\Users\\Michelangelo\\AppData\\Roaming\\nltk_data..\n[nltk_data]    |     .\n[nltk_data]    |   Package basque_grammars is already up-to-date!\n[nltk_data]    | Downloading package large_grammars to\n[nltk_data]    |     C:\\Users\\Michelangelo\\AppData\\Roaming\\nltk_data..\n[nltk_data]    |     .\n[nltk_data]    |   Package large_grammars is already up-to-date!\n[nltk_data]    | Downloading package tagsets to\n[nltk_data]    |     C:\\Users\\Michelangelo\\AppData\\Roaming\\nltk_data..\n[nltk_data]    |     .\n[nltk_data]    |   Package tagsets is already up-to-date!\n[nltk_data]    | Downloading package snowball_data to\n[nltk_data]    |     C:\\Users\\Michelangelo\\AppData\\Roaming\\nltk_data..\n[nltk_data]    |     .\n[nltk_data]    |   Package snowball_data is already up-to-date!\n[nltk_data]    | Downloading package bllip_wsj_no_aux to\n[nltk_data]    |     C:\\Users\\Michelangelo\\AppData\\Roaming\\nltk_data..\n[nltk_data]    |     .\n[nltk_data]    |   Package bllip_wsj_no_aux is already up-to-date!\n[nltk_data]    | Downloading package word2vec_sample to\n[nltk_data]    |     C:\\Users\\Michelangelo\\AppData\\Roaming\\nltk_data..\n[nltk_data]    |     .\n[nltk_data]    |   Package word2vec_sample is already up-to-date!\n[nltk_data]    | Downloading package panlex_swadesh to\n[nltk_data]    |     C:\\Users\\Michelangelo\\AppData\\Roaming\\nltk_data..\n[nltk_data]    |     .\n[nltk_data]    |   Package panlex_swadesh is already up-to-date!\n[nltk_data]    | Downloading package mte_teip5 to\n[nltk_data]    |     C:\\Users\\Michelangelo\\AppData\\Roaming\\nltk_data..\n[nltk_data]    |     .\n[nltk_data]    |   Package mte_teip5 is already up-to-date!\n[nltk_data]    | Downloading package averaged_perceptron_tagger to\n[nltk_data]    |     C:\\Users\\Michelangelo\\AppData\\Roaming\\nltk_data..\n[nltk_data]    |     .\n[nltk_data]    |   Package averaged_perceptron_tagger is already up-\n[nltk_data]    |       to-date!\n[nltk_data]    | Downloading package averaged_perceptron_tagger_ru to\n[nltk_data]    |     C:\\Users\\Michelangelo\\AppData\\Roaming\\nltk_data..\n[nltk_data]    |     .\n[nltk_data]    |   Package averaged_perceptron_tagger_ru is already\n[nltk_data]    |       up-to-date!\n[nltk_data]    | Downloading package perluniprops to\n[nltk_data]    |     C:\\Users\\Michelangelo\\AppData\\Roaming\\nltk_data..\n[nltk_data]    |     .\n[nltk_data]    |   Package perluniprops is already up-to-date!\n[nltk_data]    | Downloading package nonbreaking_prefixes to\n[nltk_data]    |     C:\\Users\\Michelangelo\\AppData\\Roaming\\nltk_data..\n[nltk_data]    |     .\n[nltk_data]    |   Package nonbreaking_prefixes is already up-to-date!\n[nltk_data]    | Downloading package vader_lexicon to\n[nltk_data]    |     C:\\Users\\Michelangelo\\AppData\\Roaming\\nltk_data..\n[nltk_data]    |     .\n[nltk_data]    |   Package vader_lexicon is already up-to-date!\n[nltk_data]    | Downloading package porter_test to\n[nltk_data]    |     C:\\Users\\Michelangelo\\AppData\\Roaming\\nltk_data..\n[nltk_data]    |     .\n[nltk_data]    |   Package porter_test is already up-to-date!\n[nltk_data]    | Downloading package wmt15_eval to\n[nltk_data]    |     C:\\Users\\Michelangelo\\AppData\\Roaming\\nltk_data..\n[nltk_data]    |     .\n[nltk_data]    |   Package wmt15_eval is already up-to-date!\n[nltk_data]    | Downloading package mwa_ppdb to\n[nltk_data]    |     C:\\Users\\Michelangelo\\AppData\\Roaming\\nltk_data..\n[nltk_data]    |     .\n[nltk_data]    |   Package mwa_ppdb is already up-to-date!\n[nltk_data]    | \n[nltk_data]  Done downloading collection all\n"
    },
    {
     "output_type": "error",
     "ename": "ModuleNotFoundError",
     "evalue": "No module named 'graphviz'",
     "traceback": [
      "\u001b[1;31m---------------------------------------------------------------------------\u001b[0m",
      "\u001b[1;31mModuleNotFoundError\u001b[0m                       Traceback (most recent call last)",
      "\u001b[1;32m<ipython-input-1-02ca955da703>\u001b[0m in \u001b[0;36m<module>\u001b[1;34m\u001b[0m\n\u001b[0;32m     34\u001b[0m \u001b[1;33m\u001b[0m\u001b[0m\n\u001b[0;32m     35\u001b[0m \u001b[1;32mfrom\u001b[0m \u001b[0mIPython\u001b[0m\u001b[1;33m.\u001b[0m\u001b[0mdisplay\u001b[0m \u001b[1;32mimport\u001b[0m \u001b[0mSVG\u001b[0m\u001b[1;33m,\u001b[0m \u001b[0mclear_output\u001b[0m\u001b[1;33m\u001b[0m\u001b[1;33m\u001b[0m\u001b[0m\n\u001b[1;32m---> 36\u001b[1;33m \u001b[1;32mfrom\u001b[0m \u001b[0mgraphviz\u001b[0m \u001b[1;32mimport\u001b[0m \u001b[0mSource\u001b[0m\u001b[1;33m\u001b[0m\u001b[1;33m\u001b[0m\u001b[0m\n\u001b[0m\u001b[0;32m     37\u001b[0m \u001b[1;32mfrom\u001b[0m \u001b[0mIPython\u001b[0m\u001b[1;33m.\u001b[0m\u001b[0mdisplay\u001b[0m \u001b[1;32mimport\u001b[0m \u001b[0mdisplay\u001b[0m\u001b[1;33m\u001b[0m\u001b[1;33m\u001b[0m\u001b[0m\n",
      "\u001b[1;31mModuleNotFoundError\u001b[0m: No module named 'graphviz'"
     ]
    }
   ],
   "source": [
    "import os\n",
    "import re\n",
    "import operator\n",
    "import warnings\n",
    "import joblib\n",
    "\n",
    "import pandas as pd\n",
    "import matplotlib as mpl\n",
    "import matplotlib.pyplot as plt\n",
    "from matplotlib.legend_handler import HandlerLine2D\n",
    "\n",
    "import numpy as np\n",
    "import math\n",
    "\n",
    "import nltk\n",
    "nltk.download('all')\n",
    "from nltk.stem import PorterStemmer\n",
    "from nltk.stem import LancasterStemmer\n",
    "from nltk.stem import WordNetLemmatizer\n",
    "from nltk.stem import PorterStemmer\n",
    "from nltk.stem import LancasterStemmer\n",
    "from nltk.corpus import stopwords\n",
    "from nltk.tokenize import sent_tokenize, word_tokenize\n",
    "\n",
    "from sklearn import tree\n",
    "from sklearn.tree import DecisionTreeClassifier\n",
    "from sklearn.model_selection import train_test_split\n",
    "from sklearn.feature_extraction.text import TfidfVectorizer, CountVectorizer\n",
    "from sklearn.metrics import confusion_matrix, accuracy_score, recall_score, f1_score, roc_auc_score, roc_curve, auc\n",
    "from sklearn.metrics import classification_report\n",
    "from sklearn.model_selection import cross_val_score, cross_validate\n",
    "from sklearn.pipeline import Pipeline\n",
    "from sklearn.utils.extmath import cartesian\n",
    "\n",
    "from IPython.display import SVG, clear_output\n",
    "from graphviz import Source\n",
    "from IPython.display import display"
   ]
  },
  {
   "cell_type": "markdown",
   "metadata": {},
   "source": [
    "Here we create the dataset we're going to use to train our Binary Decision Tree model. We make sure that both accepted and rejected tites are not duplicated. We get all the accepted titles (which are way fewer than the rejected ones), and then we get a sample of the rejected ones big enough as to make the union between accepted and rejected contain 1000 samples."
   ]
  },
  {
   "cell_type": "code",
   "execution_count": 2,
   "metadata": {
    "tags": []
   },
   "outputs": [
    {
     "output_type": "stream",
     "name": "stdout",
     "text": "330\n670\n1000\n"
    }
   ],
   "source": [
    "df = pd.read_csv('scopus_search_results.csv', encoding='UTF-8')\n",
    "acceptedDataSet = df[['Title','Accepted']][df['Accepted'] == True]\n",
    "acceptedDataSet = acceptedDataSet.drop_duplicates()\n",
    "# since we have many rejected titles, get a random sample among them \n",
    "# so that the union between accepted and rejected is 1000 titles\n",
    "rejectedDataSet = df[['Title','Accepted']][df['Accepted'] == False].drop_duplicates().sample(n=1000-len(acceptedDataSet), random_state=1)\n",
    "joinDataset = pd.concat([acceptedDataSet,rejectedDataSet],ignore_index=True)\n",
    "print(len(acceptedDataSet))\n",
    "print(len(rejectedDataSet))\n",
    "print(len(joinDataset))\n",
    "# print(joinDataset)\n"
   ]
  },
  {
   "cell_type": "markdown",
   "metadata": {},
   "source": [
    "Titles preprocessing:\n",
    " - remove special and single characters\n",
    " - trim whitespaces\n",
    " - convert to lowercase\n",
    " - lemmatize the words: return the root of the words E.G. studying -> study"
   ]
  },
  {
   "cell_type": "code",
   "execution_count": 3,
   "metadata": {
    "tags": []
   },
   "outputs": [
    {
     "output_type": "stream",
     "name": "stdout",
     "text": "making best use of model evaluation to compute sensitivity index\ncontrolling individual agent in high density crowd simulation\nverification and validation of simulation model\nhierarchical model for real time simulation of virtual human crowd\na comprehensive framework for verification validation and uncertainty quantification in scientific computing\npractical bayesian model evaluation using leave one out cross validation and waic\ntransfer of multivariate calibration model review\nvalidation verification and testing of computer software\na time domain approach to model validation\nmodel validation connection between robust control and identification\n"
    }
   ],
   "source": [
    "titles = joinDataset.Title\n",
    "classifications = joinDataset.Accepted\n",
    "lemmatizer = WordNetLemmatizer()\n",
    "\n",
    "\n",
    "def titlePreprocessing(titles):\n",
    "    preProcessedTitles = []\n",
    "\n",
    "    for title in titles:\n",
    "        # Remove all the special characters\n",
    "        title = re.sub(r'\\W', ' ', title)\n",
    "        \n",
    "        # remove all single characters\n",
    "        title = re.sub(r'\\s+[a-zA-Z]\\s+', ' ', title)\n",
    "        \n",
    "        # Remove single characters from the start\n",
    "        title = re.sub(r'\\^[a-zA-Z]\\s+', ' ', title) \n",
    "        \n",
    "        # Substituting multiple spaces with single space\n",
    "        title = re.sub(r'\\s+', ' ', title, flags=re.I)\n",
    "        \n",
    "        # Removing prefixed 'b'\n",
    "        title = re.sub(r'^b\\s+', '', title)\n",
    "        \n",
    "        # Converting to Lowercase\n",
    "        title = title.lower()\n",
    "        \n",
    "        # Lemmatization\n",
    "        title = title.split()\n",
    "        \n",
    "        title = [lemmatizer.lemmatize(word) for word in title]\n",
    "        title = ' '.join(title)\n",
    "        \n",
    "        preProcessedTitles.append(title)\n",
    "    return preProcessedTitles\n",
    "\n",
    "preProcessedTitles = titlePreprocessing(titles)\n",
    "for i in range(0,10):\n",
    "    print(preProcessedTitles[i])\n"
   ]
  },
  {
   "cell_type": "markdown",
   "metadata": {},
   "source": [
    "Split the dataset into train and test and convert the classes into binary values because that's a requirement to fit a Binary Decision Tree."
   ]
  },
  {
   "cell_type": "code",
   "execution_count": 4,
   "metadata": {
    "tags": []
   },
   "outputs": [
    {
     "output_type": "stream",
     "name": "stdout",
     "text": "0    535\n1    265\nName: Accepted, dtype: int64\n0    135\n1     65\nName: Accepted, dtype: int64\n"
    }
   ],
   "source": [
    "train_titles, test_titles, train_classes, test_classes = train_test_split(preProcessedTitles, classifications, test_size=0.2, random_state=1)\n",
    "\n",
    "# Classes must be binary to train a Binary Decision Tree so False -> 0 and True -> 1\n",
    "train_classes = train_classes.astype(int)\n",
    "test_classes = test_classes.astype(int)\n",
    "\n",
    "print(train_classes.value_counts())\n",
    "print(test_classes.value_counts())"
   ]
  },
  {
   "cell_type": "markdown",
   "metadata": {},
   "source": [
    "Train the Binary Decision Tree on the train set."
   ]
  },
  {
   "cell_type": "code",
   "execution_count": 5,
   "metadata": {},
   "outputs": [
    {
     "output_type": "execute_result",
     "data": {
      "text/plain": "Pipeline(steps=[('vectorizer',\n                 CountVectorizer(min_df=2, ngram_range=(1, 2),\n                                 stop_words=['i', 'me', 'my', 'myself', 'we',\n                                             'our', 'ours', 'ourselves', 'you',\n                                             \"you're\", \"you've\", \"you'll\",\n                                             \"you'd\", 'your', 'yours',\n                                             'yourself', 'yourselves', 'he',\n                                             'him', 'his', 'himself', 'she',\n                                             \"she's\", 'her', 'hers', 'herself',\n                                             'it', \"it's\", 'its', 'itself', ...],\n                                 token_pattern='\\\\b[\\\\w]{4,}(?<![\\\\d])\\\\b')),\n                ('dtc',\n                 DecisionTreeClassifier(class_weight='balanced', max_depth=11,\n                                        min_samples_leaf=0.00526315789473684,\n                                        min_samples_split=0.015789474))])"
     },
     "metadata": {},
     "execution_count": 5
    }
   ],
   "source": [
    "vectorizer = CountVectorizer(ngram_range=(1, 2), token_pattern = r'\\b[\\w]{4,}(?<![\\d])\\b', stop_words=stopwords.words('english'), min_df = 2)\n",
    "\n",
    "# Create Decision Tree classifer object\n",
    "max_depth = 11\n",
    "min_samples_split = 0.015789474\n",
    "min_samples_leaf = 0.00526315789473684\n",
    "criterion=\"gini\"\n",
    "class_weight = \"balanced\"\n",
    "splitter = \"best\"\n",
    "\n",
    "dtc = DecisionTreeClassifier(max_depth = max_depth, min_samples_split = min_samples_split, min_samples_leaf = min_samples_leaf, criterion=criterion, class_weight = class_weight, splitter = splitter)\n",
    "# dtc = DecisionTreeClassifier(criterion=\"entropy\", splitter = \"best\", max_depth = 5, min_samples_leaf = 5, class_weight = \"balanced\")\n",
    "\n",
    "dtc_pipe = Pipeline([('vectorizer', vectorizer), ('dtc', dtc)])\n",
    "\n",
    "# Train Decision Tree Classifer\n",
    "dtc_pipe.fit(train_titles,train_classes)\n"
   ]
  },
  {
   "cell_type": "markdown",
   "metadata": {},
   "source": [
    "Test the accuracy of the prediction on the test set."
   ]
  },
  {
   "cell_type": "code",
   "execution_count": 6,
   "metadata": {
    "tags": []
   },
   "outputs": [
    {
     "output_type": "stream",
     "name": "stdout",
     "text": "precision    recall  f1-score   support\n\n           0       0.91      0.87      0.89       135\n           1       0.75      0.82      0.78        65\n\n    accuracy                           0.85       200\n   macro avg       0.83      0.84      0.83       200\nweighted avg       0.85      0.85      0.85       200\n\nPredicted    0   1  All\nTrue                   \n0          117  18  135\n1           12  53   65\nAll        129  71  200\nAccuracy: 0.85\ntest_recall_score: 0.8153846153846154\n"
    }
   ],
   "source": [
    "#Predict the response for test dataset\n",
    "predicted_classes = dtc_pipe.predict(test_titles)\n",
    "\n",
    "print(classification_report(test_classes, predicted_classes))\n",
    "print(pd.crosstab(test_classes, predicted_classes, rownames=['True'], colnames=['Predicted'], margins=True))\n",
    "print(\"Accuracy:\",accuracy_score(test_classes, predicted_classes))\n",
    "\n",
    "test_recall_score = recall_score(test_classes, predicted_classes, average='binary',pos_label = 1) \n",
    "print(\"test_recall_score: %s\"%test_recall_score)"
   ]
  },
  {
   "cell_type": "markdown",
   "metadata": {},
   "source": [
    "Test the accuracy of the cross validation."
   ]
  },
  {
   "cell_type": "code",
   "execution_count": 7,
   "metadata": {
    "tags": []
   },
   "outputs": [
    {
     "output_type": "stream",
     "name": "stdout",
     "text": "recall cross validation: 0.77 (+/- 0.08)\ntest_precision cross validation: 0.76 (+/- 0.12)\ntest_roc_auc cross validation: 0.88 (+/- 0.06)\n"
    }
   ],
   "source": [
    "classifications = classifications.astype(int)\n",
    "scores = cross_validate(dtc_pipe, titles, classifications, cv=10, scoring = ('recall', 'precision', 'roc_auc'))\n",
    "\n",
    "print(\"recall cross validation: %0.2f (+/- %0.2f)\" % (scores['test_recall'].mean(), scores['test_recall'].std() * 2))\n",
    "print(\"test_precision cross validation: %0.2f (+/- %0.2f)\" % (scores['test_precision'].mean(), scores['test_precision'].std() * 2))\n",
    "print(\"test_roc_auc cross validation: %0.2f (+/- %0.2f)\" % (scores['test_roc_auc'].mean(), scores['test_roc_auc'].std() * 2))"
   ]
  },
  {
   "source": [
    "This is to visualize the resulting Binary Decision Tree Model. It requires \"graphviz\" (pip install graphviz)"
   ],
   "cell_type": "markdown",
   "metadata": {}
  },
  {
   "cell_type": "code",
   "execution_count": null,
   "metadata": {},
   "outputs": [],
   "source": [
    "os.environ[\"PATH\"] += os.pathsep + 'C:\\\\Program Files (x86)\\\\Graphviz2.38\\\\bin\\\\'\n",
    "\n",
    "graph = Source(\n",
    "    tree.export_graphviz(\n",
    "        dtc,\n",
    "        out_file=None,\n",
    "        feature_names=vectorizer.get_feature_names(),\n",
    "        class_names=['1', '0'],\n",
    "        filled = True)\n",
    ")\n",
    "\n",
    "savePath = \".\\models\\\\renders\\\\\"\n",
    "graph.format = 'pdf'\n",
    "graph.render(str('%sdtc_maxdepth_%s_minsampleleaf_%s'%(savePath, max_depth,min_samples_leaf)),view=True)"
   ]
  },
  {
   "cell_type": "markdown",
   "metadata": {},
   "source": [
    "Parameter Fitting: we try to get the best possible parameters for our Binary Decision Tree Classifier by bruteforcing and plotting the results."
   ]
  },
  {
   "cell_type": "code",
   "execution_count": null,
   "metadata": {},
   "outputs": [],
   "source": [
    "max_depths = np.linspace(1, 32, 32, endpoint=True)\n",
    "train_results = []\n",
    "test_results = []\n",
    "for max_depth in max_depths:\n",
    "   dtc = DecisionTreeClassifier(max_depth=max_depth)\n",
    "   dtc_pipe = Pipeline([('vectorizer', vectorizer), ('dtc', dtc)])\n",
    "   dtc_pipe.fit(train_titles,train_classes)\n",
    "\n",
    "   train_pred = dtc_pipe.predict(train_titles)\n",
    "   false_positive_rate, true_positive_rate, thresholds = roc_curve(train_classes, train_pred)\n",
    "   roc_auc = auc(false_positive_rate, true_positive_rate)\n",
    "   # Add auc score to previous train results\n",
    "   train_results.append(roc_auc)\n",
    "   y_pred = dtc_pipe.predict(test_titles)\n",
    "   false_positive_rate, true_positive_rate, thresholds = roc_curve(test_classes, y_pred)\n",
    "   roc_auc = auc(false_positive_rate, true_positive_rate)\n",
    "   # Add auc score to previous test results\n",
    "   test_results.append(roc_auc)\n",
    "\n",
    "line1, = plt.plot(max_depths, train_results, 'b', label=\"Train AUC\")\n",
    "line2, = plt.plot(max_depths, test_results, 'r', label=\"Test AUC\")\n",
    "plt.legend(handler_map={line1: HandlerLine2D(numpoints=2)})\n",
    "plt.ylabel(\"AUC score\")\n",
    "plt.xlabel(\"Tree depth\")\n",
    "# plt.show()\n",
    "plt.savefig(\"tree_depth_optimization.pdf\", format=\"pdf\")"
   ]
  },
  {
   "cell_type": "code",
   "execution_count": null,
   "metadata": {},
   "outputs": [],
   "source": [
    "min_samples_splits = np.linspace(0.1, 1.0, 10, endpoint=True)\n",
    "train_results = []\n",
    "test_results = []\n",
    "for min_samples_split in min_samples_splits:\n",
    "   dtc = DecisionTreeClassifier(min_samples_split=min_samples_split)\n",
    "   dtc_pipe = Pipeline([('vectorizer', vectorizer), ('dtc', dtc)])\n",
    "   dtc_pipe.fit(train_titles,train_classes)\n",
    "\n",
    "   train_pred = dtc_pipe.predict(train_titles)\n",
    "   false_positive_rate, true_positive_rate, thresholds = roc_curve(train_classes, train_pred)\n",
    "   roc_auc = auc(false_positive_rate, true_positive_rate)\n",
    "   # Add auc score to previous train results\n",
    "   train_results.append(roc_auc)\n",
    "   y_pred = dtc_pipe.predict(test_titles)\n",
    "   false_positive_rate, true_positive_rate, thresholds = roc_curve(test_classes, y_pred)\n",
    "   roc_auc = auc(false_positive_rate, true_positive_rate)\n",
    "   # Add auc score to previous test results\n",
    "   test_results.append(roc_auc)\n",
    "\n",
    "line1, = plt.plot(min_samples_splits, train_results, 'b', label=\"Train AUC\")\n",
    "line2, = plt.plot(min_samples_splits, test_results, 'r', label=\"Test AUC\")\n",
    "plt.legend(handler_map={line1: HandlerLine2D(numpoints=2)})\n",
    "plt.ylabel(\"AUC score\")\n",
    "plt.xlabel(\"Min Samples Split\")\n",
    "# plt.show()\n",
    "plt.savefig(\"min_samples_splits_optimization.pdf\", format=\"pdf\")\n"
   ]
  },
  {
   "cell_type": "code",
   "execution_count": null,
   "metadata": {},
   "outputs": [],
   "source": [
    "min_samples_leafs = np.linspace(0.1, 0.5, 5, endpoint=True)\n",
    "train_results = []\n",
    "test_results = []\n",
    "for min_samples_leaf in min_samples_leafs:\n",
    "   dtc = DecisionTreeClassifier(min_samples_leaf=min_samples_leaf)\n",
    "   dtc_pipe = Pipeline([('vectorizer', vectorizer), ('dtc', dtc)])\n",
    "   dtc_pipe.fit(train_titles,train_classes)\n",
    "\n",
    "   train_pred = dtc_pipe.predict(train_titles)\n",
    "   false_positive_rate, true_positive_rate, thresholds = roc_curve(train_classes, train_pred)\n",
    "   roc_auc = auc(false_positive_rate, true_positive_rate)\n",
    "   # Add auc score to previous train results\n",
    "   train_results.append(roc_auc)\n",
    "   y_pred = dtc_pipe.predict(test_titles)\n",
    "   false_positive_rate, true_positive_rate, thresholds = roc_curve(test_classes, y_pred)\n",
    "   roc_auc = auc(false_positive_rate, true_positive_rate)\n",
    "   # Add auc score to previous test results\n",
    "   test_results.append(roc_auc)\n",
    "\n",
    "line1, = plt.plot(min_samples_leafs, train_results, 'b', label=\"Train AUC\")\n",
    "line2, = plt.plot(min_samples_leafs, test_results, 'r', label=\"Test AUC\")\n",
    "plt.legend(handler_map={line1: HandlerLine2D(numpoints=2)})\n",
    "plt.ylabel(\"AUC score\")\n",
    "plt.xlabel(\"min samples leaf\")\n",
    "# plt.show()\n",
    "plt.savefig(\"min_samples_leafs_splits_optimization.pdf\", format=\"pdf\")"
   ]
  },
  {
   "cell_type": "markdown",
   "metadata": {},
   "source": [
    "Progress Bar Function"
   ]
  },
  {
   "cell_type": "code",
   "metadata": {},
   "outputs": [],
   "source": [
    "# Print iterations progress\n",
    "def printProgressBar (iteration, total, prefix = '', suffix = '', decimals = 1, length = 100, fill = '█', printEnd = \"\\r\"):\n",
    "    \"\"\"\n",
    "    Call in a loop to create terminal progress bar\n",
    "    @params:\n",
    "        iteration   - Required  : current iteration (Int)\n",
    "        total       - Required  : total iterations (Int)\n",
    "        prefix      - Optional  : prefix string (Str)\n",
    "        suffix      - Optional  : suffix string (Str)\n",
    "        decimals    - Optional  : positive number of decimals in percent complete (Int)\n",
    "        length      - Optional  : character length of bar (Int)\n",
    "        fill        - Optional  : bar fill character (Str)\n",
    "        printEnd    - Optional  : end character (e.g. \"\\r\", \"\\r\\n\") (Str)\n",
    "    \"\"\"\n",
    "    percent = (\"{0:.\" + str(decimals) + \"f}\").format(100 * (iteration / float(total)))\n",
    "    filledLength = int(length * iteration // total)\n",
    "    bar = fill * filledLength + '-' * (length - filledLength)\n",
    "    print('\\r%s |%s| %s%% %s' % (prefix, bar, percent, suffix), end = printEnd)\n",
    "    # Print New Line on Complete\n",
    "    if iteration == total: \n",
    "        print()"
   ],
   "execution_count": null
  },
  {
   "cell_type": "markdown",
   "metadata": {},
   "source": [
    "Find the best combination of parameters."
   ]
  },
  {
   "cell_type": "code",
   "metadata": {},
   "outputs": [],
   "source": [
    "warnings.filterwarnings('ignore')\n",
    "\n",
    "max_depths = np.linspace(7, 12, 5, endpoint=True)\n",
    "min_samples_splits = np.linspace(np.nextafter(0,1), 0.1, 20, endpoint=True)\n",
    "min_samples_leafs = np.linspace(np.nextafter(0,1), 0.1, 20, endpoint=True)\n",
    "criterion=\"gini\"\n",
    "class_weight = \"balanced\"\n",
    "splitter = \"best\"\n",
    "\n",
    "paramCombinations = cartesian([max_depths, min_samples_splits, min_samples_leafs])\n",
    "\n",
    "data = []\n",
    "columns = ['max_depth', 'min_samples_split', 'min_samples_leaf', 'train_accuracy_score', 'train_f1_score', 'train_recall_score', 'train_roc_auc_score', 'test_accuracy_score','test_f1_score','test_recall_score','test_roc_auc_score']\n",
    "count = 0\n",
    "for pComb in paramCombinations:\n",
    "    printProgressBar(count, len(paramCombinations), prefix = 'Progress:', suffix = 'Complete', length = 50)\n",
    "    # print advancement percentage\n",
    "    # if(((count/len(paramCombinations)*100) % 1) == 0): \n",
    "    #     clear_output()\n",
    "    #     print(str(\"%d%%\"%(count/len(paramCombinations)*100)))\n",
    "    \n",
    "    dtc = DecisionTreeClassifier(max_depth = pComb[0], min_samples_split = pComb[1], min_samples_leaf = pComb[2], \n",
    "        criterion=criterion,splitter=splitter,class_weight=class_weight)\n",
    "    dtc_pipe = Pipeline([('vectorizer', vectorizer), ('dtc', dtc)])\n",
    "    dtc_pipe.fit(train_titles,train_classes)\n",
    "\n",
    "    train_pred = dtc_pipe.predict(train_titles)\n",
    "    \n",
    "    train_accuracy_score = accuracy_score(train_classes, train_pred)\n",
    "    train_f1_score = f1_score(train_classes, train_pred, average='weighted')\n",
    "    # train_recall_score = recall_score(train_classes, train_pred, average='weighted') \n",
    "    # train_f1_score = f1_score(train_classes, train_pred, average='binary',pos_label = 1)\n",
    "    train_recall_score = recall_score(train_classes, train_pred, average='binary',pos_label = 1) \n",
    "    train_roc_auc_score = roc_auc_score(train_classes, train_pred)\n",
    "    \n",
    "    test_pred = dtc_pipe.predict(test_titles)\n",
    "\n",
    "    test_accuracy_score = accuracy_score(test_classes, test_pred)\n",
    "    test_f1_score = f1_score(test_classes, test_pred, average='weighted')\n",
    "    # test_recall_score = recall_score(test_classes, test_pred, average='weighted') \n",
    "    # test_f1_score = f1_score(test_classes, test_pred, average='binary',pos_label = 1)\n",
    "    test_recall_score = recall_score(test_classes, test_pred, average='binary',pos_label = 1) \n",
    "    test_roc_auc_score = roc_auc_score(test_classes, test_pred)\n",
    "\n",
    "    data.append((pComb[0],pComb[1],pComb[2],train_accuracy_score, train_f1_score, train_recall_score,train_roc_auc_score,\n",
    "        test_accuracy_score, test_f1_score, test_recall_score,test_roc_auc_score))\n",
    "    count += 1\n",
    "\n",
    "# create DataFrame using data \n",
    "paramCombinationsDataFrame = pd.DataFrame(data, columns = columns)\n",
    "paramCombinationsDataFrame.to_csv('models/parameters/bruteforce_param_combinations.csv', index=False, header=True)"
   ],
   "execution_count": null
  },
  {
   "cell_type": "code",
   "metadata": {},
   "outputs": [],
   "source": [
    "print(\"#Max Depts: %s\"%len(max_depths))\n",
    "print(\"Max Depts: %s\"%max_depths)\n",
    "\n",
    "print(\"#Min Samples Splits: %s\"%len(min_samples_splits))\n",
    "print(\"Min Samples Splits: %s\"%min_samples_splits)\n",
    "\n",
    "print(\"#Min Samples Leaves: %s\"%len(min_samples_leafs))\n",
    "print(\"Min Samples Leaves: %s\"%min_samples_leafs)\n",
    "\n",
    "bestTrainIndex, bestTrainRes = max(enumerate(train_results), key=operator.itemgetter(1))\n",
    "# bestTrainRes = max(train_results)\n",
    "# bestTrainIndex = train_results.index(max(train_results))\n",
    "bestTrainParamCombination = paramCombinations[bestTrainIndex]\n",
    "print(str(\"Training Set Best Combination: %s Index: %d Score: %f\"%(bestTrainParamCombination,bestTrainIndex,bestTrainRes)))\n",
    "\n",
    "bestTestIndex, bestTestRes = max(enumerate(test_results), key=operator.itemgetter(1))\n",
    "# bestTestRes = max(test_results)\n",
    "# bestTestIndex = test_results.index(max(test_results))\n",
    "bestTestParamCombination = paramCombinations[bestTestIndex]\n",
    "print(str(\"Test Set Best Combination: %s Index: %d Score: %f\"%(bestTestParamCombination,bestTestIndex,bestTestRes)))"
   ],
   "execution_count": null
  },
  {
   "cell_type": "markdown",
   "metadata": {},
   "source": [
    "Save the model so that it can later be re-imported."
   ]
  },
  {
   "cell_type": "code",
   "metadata": {},
   "outputs": [],
   "source": [
    "savePath = \".\\models\\\\\"\n",
    "extension = \".sav\"\n",
    "filename = str('%sdtc_maxdepth_%s_minsampleleaf_%s%s'%(savePath, max_depth,min_samples_leaf,extension))\n",
    "joblib.dump(dtc_pipe, filename)"
   ],
   "execution_count": null
  },
  {
   "cell_type": "markdown",
   "metadata": {},
   "source": [
    "Use the model to predict stuff."
   ]
  },
  {
   "cell_type": "code",
   "metadata": {},
   "outputs": [],
   "source": [
    "savePath = \".\\models\\\\\"\n",
    "extension = \".sav\"\n",
    "filename = str('%sdtc_maxdepth_%s_minsampleleaf_%s%s'%(savePath, max_depth,min_samples_leaf,extension))\n",
    "\n",
    "model = joblib.load(filename)\n",
    "\n",
    "unreadTitles = df['Title'][df['ReadTimeStamp'].isnull()].drop_duplicates()\n",
    "\n",
    "preprocessedTitles = titlePreprocessing(unreadTitles)\n",
    "\n",
    "predictedClasses = model.predict(preprocessedTitles)\n",
    "\n",
    "class0Titles = set()\n",
    "class1Titles = set()\n",
    "\n",
    "for i in range(0,len(predictedClasses),1):\n",
    "    if(predictedClasses.item(i) == 1):\n",
    "        class1Titles.add(unreadTitles.iloc[i])\n",
    "    else:\n",
    "        class0Titles.add(unreadTitles.iloc[i])"
   ],
   "execution_count": null
  },
  {
   "cell_type": "markdown",
   "metadata": {},
   "source": [
    "Print the interesting titles."
   ]
  },
  {
   "cell_type": "code",
   "metadata": {},
   "outputs": [],
   "source": [
    "for class1Title in class1Titles:\n",
    "    print(class1Title)\n",
    "print(\"\\n--- CLASSIFIER:  %s   ---\" %filename)\n",
    "print(\"---   %d interesting titles found out of %d   ---\" %(len(class1Titles), len(unreadTitles)))"
   ],
   "execution_count": null
  },
  {
   "cell_type": "markdown",
   "metadata": {},
   "source": [
    "Export the interesting articles into a separate CSV file."
   ]
  },
  {
   "cell_type": "code",
   "metadata": {},
   "outputs": [],
   "source": [
    "unreadArticles = df[df['ReadTimeStamp'].isnull()]\n",
    "indexes = set(unreadArticles.index)\n",
    "\n",
    "class0Rows = set()\n",
    "class1Rows = set()\n",
    "for index, article in unreadArticles.iterrows():\n",
    "    if((article['Title'] in class1Titles) == False):\n",
    "        class0Rows.add(index)\n",
    "\n",
    "class1Rows = indexes.difference(class0Rows)\n",
    "\n",
    "class0Articles = unreadArticles.drop(class1Rows)\n",
    "class1Articles = unreadArticles.drop(class0Rows)\n",
    "\n",
    "print(unreadArticles.shape[0])\n",
    "print(\"%d + %d = %d\"%(class0Articles.shape[0],class1Articles.shape[0], class0Articles.shape[0]+class1Articles.shape[0]))\n",
    "\n",
    "class0Articles.to_csv('class_0_articles.csv', index=False, header=True)\n",
    "class1Articles.to_csv('class_1_articles.csv', index=False, header=True)\n"
   ],
   "execution_count": null
  },
  {
   "cell_type": "code",
   "metadata": {},
   "outputs": [],
   "source": [],
   "execution_count": null
  }
 ],
 "metadata": {
  "kernelspec": {
   "display_name": "Python 3",
   "language": "python",
   "name": "python3"
  },
  "language_info": {
   "codemirror_mode": {
    "name": "ipython",
    "version": 3
   },
   "file_extension": ".py",
   "mimetype": "text/x-python",
   "name": "python",
   "nbconvert_exporter": "python",
   "pygments_lexer": "ipython3",
   "version": "3.8.3-final"
  }
 },
 "nbformat": 4,
 "nbformat_minor": 2
}